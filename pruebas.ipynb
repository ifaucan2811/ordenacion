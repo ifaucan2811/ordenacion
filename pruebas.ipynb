{
 "cells": [
  {
   "cell_type": "code",
   "execution_count": 3,
   "metadata": {},
   "outputs": [],
   "source": [
    "import pygame\n",
    "import pygame_widgets"
   ]
  },
  {
   "cell_type": "code",
   "execution_count": 4,
   "metadata": {},
   "outputs": [],
   "source": [
    "n =[]\n",
    "contador = 0\n",
    "# funciones reutilizables\n",
    "def swap(i):\n",
    "    global n\n",
    "    a= n[i]\n",
    "    n[i] = n[i+1]\n",
    "    n[i+1] = a\n",
    "\n",
    "def agregarNumero():\n",
    "    global n\n",
    "    n.append(int(tNumero.getText()))\n",
    "    tResultado.setText(n)\n",
    "\n",
    "def ordenar():\n",
    "    parar = 0\n",
    "    global contador\n",
    "    global n\n",
    "    for i in range(len(n)-1):\n",
    "        parar = 1\n",
    "        for j in range(len(n)-1):\n",
    "            if n[j]>n[j+1]:\n",
    "                swap(j)\n",
    "                contador +=1\n",
    "                parar = 0\n",
    "            if parar == 1:\n",
    "                break\n",
    "    tResultado.setText(n)        \n",
    "\n",
    "              "
   ]
  },
  {
   "cell_type": "code",
   "execution_count": 5,
   "metadata": {},
   "outputs": [
    {
     "ename": "ImportError",
     "evalue": "cannot import name 'textBox' from 'pygame_widgets.textbox' (/home/ifaucan2811/anaconda3/lib/python3.11/site-packages/pygame_widgets/textbox.py)",
     "output_type": "error",
     "traceback": [
      "\u001b[0;31m---------------------------------------------------------------------------\u001b[0m",
      "\u001b[0;31mImportError\u001b[0m                               Traceback (most recent call last)",
      "Cell \u001b[0;32mIn[5], line 2\u001b[0m\n\u001b[1;32m      1\u001b[0m \u001b[39mfrom\u001b[39;00m \u001b[39mpygame_widgets\u001b[39;00m\u001b[39m.\u001b[39;00m\u001b[39mbutton\u001b[39;00m \u001b[39mimport\u001b[39;00m Button\n\u001b[0;32m----> 2\u001b[0m \u001b[39mfrom\u001b[39;00m \u001b[39mpygame_widgets\u001b[39;00m\u001b[39m.\u001b[39;00m\u001b[39mtextbox\u001b[39;00m \u001b[39mimport\u001b[39;00m textBox\n\u001b[1;32m      3\u001b[0m \u001b[39m# Set up Pygame\u001b[39;00m\n\u001b[1;32m      4\u001b[0m pygame\u001b[39m.\u001b[39minit()\n",
      "\u001b[0;31mImportError\u001b[0m: cannot import name 'textBox' from 'pygame_widgets.textbox' (/home/ifaucan2811/anaconda3/lib/python3.11/site-packages/pygame_widgets/textbox.py)"
     ]
    }
   ],
   "source": [
    "from pygame_widgets.button import Button\n",
    "from pygame_widgets.textbox import textBox\n",
    "# Set up Pygame\n",
    "pygame.init()\n",
    "win = pygame"
   ]
  },
  {
   "cell_type": "code",
   "execution_count": null,
   "metadata": {},
   "outputs": [],
   "source": []
  }
 ],
 "metadata": {
  "kernelspec": {
   "display_name": "Python 3.11.4 ('base')",
   "language": "python",
   "name": "python3"
  },
  "language_info": {
   "codemirror_mode": {
    "name": "ipython",
    "version": 3
   },
   "file_extension": ".py",
   "mimetype": "text/x-python",
   "name": "python",
   "nbconvert_exporter": "python",
   "pygments_lexer": "ipython3",
   "version": "3.11.4"
  },
  "orig_nbformat": 4,
  "vscode": {
   "interpreter": {
    "hash": "2ca4d5ae3b2f77b1cd13cbf562c2ec14edf549962650817fb0df2df707e6279d"
   }
  }
 },
 "nbformat": 4,
 "nbformat_minor": 2
}
