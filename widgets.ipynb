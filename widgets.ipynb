{
 "cells": [
  {
   "cell_type": "code",
   "execution_count": 1,
   "metadata": {},
   "outputs": [],
   "source": [
    "import ipywidgets as wid\n"
   ]
  },
  {
   "cell_type": "code",
   "execution_count": 2,
   "metadata": {},
   "outputs": [],
   "source": [
    "def swap(i):\n",
    "    global n\n",
    "    a= n[i]\n",
    "    n[i] = n[i+1]\n",
    "    n[i+1] = a\n",
    "\n",
    "contador = 0\n",
    "n = []\n"
   ]
  },
  {
   "cell_type": "code",
   "execution_count": 3,
   "metadata": {},
   "outputs": [
    {
     "ename": "ValueError",
     "evalue": "invalid literal for int() with base 10: ''",
     "output_type": "error",
     "traceback": [
      "\u001b[0;31m---------------------------------------------------------------------------\u001b[0m",
      "\u001b[0;31mValueError\u001b[0m                                Traceback (most recent call last)",
      "Cell \u001b[0;32mIn[3], line 2\u001b[0m, in \u001b[0;36magregar\u001b[0;34m(p)\u001b[0m\n\u001b[1;32m      1\u001b[0m \u001b[39mdef\u001b[39;00m \u001b[39magregar\u001b[39m(p):\n\u001b[0;32m----> 2\u001b[0m     n\u001b[39m.\u001b[39mappend(\u001b[39mint\u001b[39m(\u001b[39minput\u001b[39m\u001b[39m.\u001b[39mvalue))\n\u001b[1;32m      3\u001b[0m     output\u001b[39m.\u001b[39mvalue\u001b[39m=\u001b[39m\u001b[39mstr\u001b[39m(n)\n",
      "\u001b[0;31mValueError\u001b[0m: invalid literal for int() with base 10: ''"
     ]
    }
   ],
   "source": [
    "def agregar(p):\n",
    "    n.append(int(input.value))\n",
    "    output.value=str(n)\n",
    "def ordenar(p):\n",
    "    parar = 0\n",
    "    global contador\n",
    "    global n\n",
    "    \n",
    "    for i in range(len(n)-1):\n",
    "        parar = 1\n",
    "        for j in range(len(n)-1):\n",
    "            if n[j]>n[j+1]:\n",
    "                swap(j)\n",
    "                contador +=1\n",
    "                parar = 0\n",
    "        if parar == 1:\n",
    "            break\n",
    "    output.value = str(n)\n",
    "\n",
    "boton1_agregar = wid.Button(description=\"agregar\")\n",
    "boton2_ordenar = wid.Button(description=\"ordenar\")\n",
    "output = wid.Text()\n",
    "input = wid.Text()\n",
    "boton1_agregar.on_click(agregar)\n",
    "boton2_ordenar.on_click(ordenar)     "
   ]
  },
  {
   "cell_type": "code",
   "execution_count": 4,
   "metadata": {},
   "outputs": [
    {
     "data": {
      "application/vnd.jupyter.widget-view+json": {
       "model_id": "0c67ee69059f41168b675181a867d52e",
       "version_major": 2,
       "version_minor": 0
      },
      "text/plain": [
       "Text(value='')"
      ]
     },
     "metadata": {},
     "output_type": "display_data"
    },
    {
     "data": {
      "application/vnd.jupyter.widget-view+json": {
       "model_id": "f1c441e2280d460a953d04aea37fbc57",
       "version_major": 2,
       "version_minor": 0
      },
      "text/plain": [
       "Button(description='agregar', style=ButtonStyle())"
      ]
     },
     "metadata": {},
     "output_type": "display_data"
    },
    {
     "data": {
      "application/vnd.jupyter.widget-view+json": {
       "model_id": "66c8dd531b3d4d79ad2f6cc7c88bc9e6",
       "version_major": 2,
       "version_minor": 0
      },
      "text/plain": [
       "Button(description='ordenar', style=ButtonStyle())"
      ]
     },
     "metadata": {},
     "output_type": "display_data"
    },
    {
     "data": {
      "application/vnd.jupyter.widget-view+json": {
       "model_id": "782f968a5efe4fde988e3c12a6ada66b",
       "version_major": 2,
       "version_minor": 0
      },
      "text/plain": [
       "Text(value='')"
      ]
     },
     "metadata": {},
     "output_type": "display_data"
    }
   ],
   "source": [
    "display(input, boton1_agregar, boton2_ordenar, output)"
   ]
  },
  {
   "cell_type": "code",
   "execution_count": null,
   "metadata": {},
   "outputs": [],
   "source": []
  }
 ],
 "metadata": {
  "kernelspec": {
   "display_name": "Python 3 (ipykernel)",
   "language": "python",
   "name": "python3"
  },
  "language_info": {
   "codemirror_mode": {
    "name": "ipython",
    "version": 3
   },
   "file_extension": ".py",
   "mimetype": "text/x-python",
   "name": "python",
   "nbconvert_exporter": "python",
   "pygments_lexer": "ipython3",
   "version": "3.11.4"
  },
  "vscode": {
   "interpreter": {
    "hash": "2ca4d5ae3b2f77b1cd13cbf562c2ec14edf549962650817fb0df2df707e6279d"
   }
  }
 },
 "nbformat": 4,
 "nbformat_minor": 2
}
